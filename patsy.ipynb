{
 "cells": [
  {
   "cell_type": "code",
   "execution_count": 1,
   "metadata": {
    "collapsed": true
   },
   "outputs": [],
   "source": [
    "import numpy as np\n",
    "from patsy import dmatrices, dmatrix"
   ]
  },
  {
   "cell_type": "code",
   "execution_count": 2,
   "metadata": {
    "collapsed": true
   },
   "outputs": [],
   "source": [
    "# example data\n",
    "data = {\n",
    "    'income':[10, 15, 20, 25, 30, 100],\n",
    "    'edu':[9, 9, 12, 12, 15, 18],\n",
    "    'age':[19, 22, 35, 27, 42, 36],\n",
    "    'gender':['m', 'f', 'm', 'f', 'm', 'f']\n",
    "}"
   ]
  },
  {
   "cell_type": "code",
   "execution_count": 3,
   "metadata": {
    "collapsed": true
   },
   "outputs": [],
   "source": [
    "outcome, predictors = dmatrices('income ~ edu + age', data)"
   ]
  },
  {
   "cell_type": "code",
   "execution_count": 4,
   "metadata": {},
   "outputs": [
    {
     "data": {
      "text/plain": [
       "DesignMatrix with shape (6, 1)\n",
       "  income\n",
       "      10\n",
       "      15\n",
       "      20\n",
       "      25\n",
       "      30\n",
       "     100\n",
       "  Terms:\n",
       "    'income' (column 0)"
      ]
     },
     "execution_count": 4,
     "metadata": {},
     "output_type": "execute_result"
    }
   ],
   "source": [
    "outcome"
   ]
  },
  {
   "cell_type": "code",
   "execution_count": 5,
   "metadata": {},
   "outputs": [
    {
     "data": {
      "text/plain": [
       "DesignMatrix with shape (6, 3)\n",
       "  Intercept  edu  age\n",
       "          1    9   19\n",
       "          1    9   22\n",
       "          1   12   35\n",
       "          1   12   27\n",
       "          1   15   42\n",
       "          1   18   36\n",
       "  Terms:\n",
       "    'Intercept' (column 0)\n",
       "    'edu' (column 1)\n",
       "    'age' (column 2)"
      ]
     },
     "execution_count": 5,
     "metadata": {},
     "output_type": "execute_result"
    }
   ],
   "source": [
    "predictors"
   ]
  },
  {
   "cell_type": "markdown",
   "metadata": {},
   "source": [
    "## get the least-squares solution to a linear matrix equation"
   ]
  },
  {
   "cell_type": "code",
   "execution_count": 6,
   "metadata": {},
   "outputs": [
    {
     "name": "stdout",
     "output_type": "stream",
     "text": [
      "Intercept : -60.33\n",
      "edu       : 14.06\n",
      "age       : -2.719\n"
     ]
    }
   ],
   "source": [
    "betas = np.linalg.lstsq(predictors, outcome)[0].ravel()\n",
    "for name, beta in zip(predictors.design_info.column_names, betas):\n",
    "    print(\"{:10}: {:.4}\".format(name, beta))"
   ]
  },
  {
   "cell_type": "markdown",
   "metadata": {},
   "source": [
    "## patsy's built-in transformation function. center, standardize, ..."
   ]
  },
  {
   "cell_type": "code",
   "execution_count": 7,
   "metadata": {},
   "outputs": [
    {
     "data": {
      "text/plain": [
       "DesignMatrix with shape (6, 3)\n",
       "  Intercept  center(age)  standardize(edu)\n",
       "          1    -11.16667          -1.09322\n",
       "          1     -8.16667          -1.09322\n",
       "          1      4.83333          -0.15617\n",
       "          1     -3.16667          -0.15617\n",
       "          1     11.83333           0.78087\n",
       "          1      5.83333           1.71791\n",
       "  Terms:\n",
       "    'Intercept' (column 0)\n",
       "    'center(age)' (column 1)\n",
       "    'standardize(edu)' (column 2)"
      ]
     },
     "execution_count": 7,
     "metadata": {},
     "output_type": "execute_result"
    }
   ],
   "source": [
    "dmatrix(\"center(age) + standardize(edu)\", data)"
   ]
  },
  {
   "cell_type": "markdown",
   "metadata": {},
   "source": [
    "## we can use other python functions. e.g. np.log()"
   ]
  },
  {
   "cell_type": "code",
   "execution_count": 8,
   "metadata": {},
   "outputs": [
    {
     "data": {
      "text/plain": [
       "DesignMatrix with shape (6, 3)\n",
       "  Intercept  np.log(age)  edu\n",
       "          1      2.94444    9\n",
       "          1      3.09104    9\n",
       "          1      3.55535   12\n",
       "          1      3.29584   12\n",
       "          1      3.73767   15\n",
       "          1      3.58352   18\n",
       "  Terms:\n",
       "    'Intercept' (column 0)\n",
       "    'np.log(age)' (column 1)\n",
       "    'edu' (column 2)"
      ]
     },
     "execution_count": 8,
     "metadata": {},
     "output_type": "execute_result"
    }
   ],
   "source": [
    "dmatrix('np.log(age) + edu', data)"
   ]
  },
  {
   "cell_type": "markdown",
   "metadata": {},
   "source": [
    "## categorical variable. gender"
   ]
  },
  {
   "cell_type": "code",
   "execution_count": 9,
   "metadata": {},
   "outputs": [
    {
     "data": {
      "text/plain": [
       "DesignMatrix with shape (6, 3)\n",
       "  Intercept  gender[T.m]  age\n",
       "          1            1   19\n",
       "          1            0   22\n",
       "          1            1   35\n",
       "          1            0   27\n",
       "          1            1   42\n",
       "          1            0   36\n",
       "  Terms:\n",
       "    'Intercept' (column 0)\n",
       "    'gender' (column 1)\n",
       "    'age' (column 2)"
      ]
     },
     "execution_count": 9,
     "metadata": {},
     "output_type": "execute_result"
    }
   ],
   "source": [
    "dmatrix('age + gender', data)"
   ]
  },
  {
   "cell_type": "markdown",
   "metadata": {},
   "source": [
    "## interaction term"
   ]
  },
  {
   "cell_type": "code",
   "execution_count": 10,
   "metadata": {
    "scrolled": false
   },
   "outputs": [
    {
     "data": {
      "text/plain": [
       "DesignMatrix with shape (6, 3)\n",
       "  Intercept  age  gender[T.m]:age\n",
       "          1   19               19\n",
       "          1   22                0\n",
       "          1   35               35\n",
       "          1   27                0\n",
       "          1   42               42\n",
       "          1   36                0\n",
       "  Terms:\n",
       "    'Intercept' (column 0)\n",
       "    'age' (column 1)\n",
       "    'gender:age' (column 2)"
      ]
     },
     "execution_count": 10,
     "metadata": {},
     "output_type": "execute_result"
    }
   ],
   "source": [
    "outcome, predictors = dmatrices('income ~ age + gender:age', data)\n",
    "predictors"
   ]
  },
  {
   "cell_type": "code",
   "execution_count": 11,
   "metadata": {},
   "outputs": [
    {
     "name": "stdout",
     "output_type": "stream",
     "text": [
      "Intercept : -47.71\n",
      "age       : 3.452\n",
      "gender[T.m]:age: -1.443\n"
     ]
    }
   ],
   "source": [
    "betas = np.linalg.lstsq(predictors, outcome)[0].ravel()\n",
    "for name, beta in zip(predictors.design_info.column_names, betas):\n",
    "    print(\"{:10}: {:.4}\".format(name, beta))"
   ]
  },
  {
   "cell_type": "code",
   "execution_count": null,
   "metadata": {
    "collapsed": true
   },
   "outputs": [],
   "source": []
  }
 ],
 "metadata": {
  "kernelspec": {
   "display_name": "Python 3",
   "language": "python",
   "name": "python3"
  },
  "language_info": {
   "codemirror_mode": {
    "name": "ipython",
    "version": 3
   },
   "file_extension": ".py",
   "mimetype": "text/x-python",
   "name": "python",
   "nbconvert_exporter": "python",
   "pygments_lexer": "ipython3",
   "version": "3.6.3"
  }
 },
 "nbformat": 4,
 "nbformat_minor": 2
}
